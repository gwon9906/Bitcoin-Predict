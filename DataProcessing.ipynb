{
 "cells": [
  {
   "cell_type": "code",
   "execution_count": 1,
   "metadata": {},
   "outputs": [
    {
     "name": "stdout",
     "output_type": "stream",
     "text": [
      "<class 'pandas.core.frame.DataFrame'>\n",
      "Index: 2844 entries, 0 to 336\n",
      "Data columns (total 6 columns):\n",
      " #   Column     Non-Null Count  Dtype \n",
      "---  ------     --------------  ----- \n",
      " 0   timestamp  2844 non-null   int64 \n",
      " 1   date       2844 non-null   object\n",
      " 2   비트코인       2844 non-null   int64 \n",
      " 3   업비트        2844 non-null   int64 \n",
      " 4   bitcoin    2844 non-null   int64 \n",
      " 5   coinbase   2844 non-null   int64 \n",
      "dtypes: int64(5), object(1)\n",
      "memory usage: 155.5+ KB\n",
      "None\n"
     ]
    }
   ],
   "source": [
    "import pandas as pd\n",
    "\n",
    "file_paths = [\n",
    "    'data/trend/bitcoin_trends_daily_2017_utc0.csv',\n",
    "    'data/trend/bitcoin_trends_daily_2018_utc0.csv',\n",
    "    'data/trend/bitcoin_trends_daily_2019_utc0.csv',\n",
    "    'data/trend/bitcoin_trends_daily_2020_utc0.csv',\n",
    "    'data/trend/bitcoin_trends_daily_2021_utc0.csv',\n",
    "    'data/trend/bitcoin_trends_daily_2022_utc0.csv',\n",
    "    'data/trend/bitcoin_trends_daily_2023_utc0.csv',\n",
    "    'data/trend/bitcoin_trends_daily_2024_utc0.csv',\n",
    "]\n",
    "\n",
    "data_list = []\n",
    "\n",
    "for file_path in file_paths:\n",
    "    data = pd.read_csv(file_path)\n",
    "    data_list.append(data)\n",
    "\n",
    "trend_data = pd.concat(data_list)\n",
    "\n",
    "file_kor_path = 'data/BTC_KRW 빗썸 과거 데이터.csv'\n",
    "file_usd_path = 'data/BTC_USD 비트파이넥스 과거 데이터.csv'\n",
    "file_exc_path = 'data/exchange_rate.csv'\n",
    "\n",
    "btc_krw = pd.read_csv(file_kor_path)\n",
    "btc_usd = pd.read_csv(file_usd_path)\n",
    "exc_rate = pd.read_csv(file_exc_path)\n",
    "\n",
    "print(trend_data.info())"
   ]
  },
  {
   "cell_type": "code",
   "execution_count": 2,
   "metadata": {},
   "outputs": [
    {
     "name": "stdout",
     "output_type": "stream",
     "text": [
      "환율 데이터 결측치 개수: 0\n"
     ]
    },
    {
     "name": "stderr",
     "output_type": "stream",
     "text": [
      "/tmp/ipykernel_254847/1272880640.py:6: FutureWarning: Series.fillna with 'method' is deprecated and will raise in a future version. Use obj.ffill() or obj.bfill() instead.\n",
      "  exc_rate['Exchange Rate'] = exc_rate['Exchange Rate'].fillna(method='ffill')\n"
     ]
    }
   ],
   "source": [
    "# 기존 'timestamp' 열 제거\n",
    "if 'timestamp' in trend_data.columns:\n",
    "    trend_data.drop(columns=['timestamp'], inplace=True)\n",
    "\n",
    "# 환율 데이터 결측치 처리\n",
    "exc_rate['Exchange Rate'] = exc_rate['Exchange Rate'].fillna(method='ffill')\n",
    "\n",
    "# 결측치가 여전히 남아 있는지 확인\n",
    "print(\"환율 데이터 결측치 개수:\", exc_rate['Exchange Rate'].isna().sum())\n"
   ]
  },
  {
   "cell_type": "code",
   "execution_count": 3,
   "metadata": {},
   "outputs": [],
   "source": [
    "# 2. 타임스탬프 통일\n",
    "trend_data.rename(columns={'date': 'timestamp'}, inplace=True)\n",
    "btc_krw.rename(columns={'날짜': 'timestamp'}, inplace=True)\n",
    "btc_usd.rename(columns={'날짜': 'timestamp'}, inplace=True)\n",
    "exc_rate.rename(columns={'Date': 'timestamp'}, inplace=True)\n",
    "\n",
    "trend_data['timestamp'] = pd.to_datetime(trend_data['timestamp'])\n",
    "btc_krw['timestamp'] = pd.to_datetime(btc_krw['timestamp'])\n",
    "btc_usd['timestamp'] = pd.to_datetime(btc_usd['timestamp'])\n",
    "exc_rate['timestamp'] = pd.to_datetime(exc_rate['timestamp'])\n"
   ]
  },
  {
   "cell_type": "code",
   "execution_count": 4,
   "metadata": {},
   "outputs": [
    {
     "name": "stdout",
     "output_type": "stream",
     "text": [
      "      timestamp  Exchange Rate      close       open       high        low  \\\n",
      "2737 2017-05-23         1117.1  3206000.0  3104000.0  3281000.0  3081000.0   \n",
      "2736 2017-05-24         1120.6  4175000.0  3206000.0  4314000.0  3206000.0   \n",
      "2735 2017-05-25         1126.6  4199000.0  4175000.0  4840000.0  3102000.0   \n",
      "2734 2017-05-26         1118.0  3227000.0  4199000.0  4200000.0  2900000.0   \n",
      "2733 2017-05-27         1118.0  3152000.0  3227000.0  3288000.0  2460000.0   \n",
      "\n",
      "       volume  change  \n",
      "2737  21580.0    3.29  \n",
      "2736  34680.0   30.22  \n",
      "2735  35910.0    0.57  \n",
      "2734  36650.0  -23.15  \n",
      "2733  33750.0   -2.32  \n",
      "      timestamp  Exchange Rate    close     open     high      low  volume  \\\n",
      "4672 2012-02-02         1126.4  6871.04  6871.04  6871.04  6871.04     NaN   \n",
      "4671 2012-02-03         1118.5  6711.00  6711.00  6711.00  6711.00     NaN   \n",
      "4670 2012-02-04         1118.5  6599.15  6599.15  6599.15  6599.15     NaN   \n",
      "4669 2012-02-05         1118.5  6375.45  6375.45  6375.45  6375.45     NaN   \n",
      "4668 2012-02-06         1118.9  6042.06  6042.06  6042.06  6042.06     NaN   \n",
      "\n",
      "      change  \n",
      "4672    0.00  \n",
      "4671   -2.30  \n",
      "4670   -1.51  \n",
      "4669   -3.07  \n",
      "4668   -4.22  \n"
     ]
    }
   ],
   "source": [
    "# 환율 병합 (BTC-KRW와 BTC-USD에 동일 환율 적용)\n",
    "btc_usd = pd.merge(btc_usd, exc_rate, on='timestamp', how='inner')  # 환율 데이터 병합\n",
    "btc_krw = pd.merge(btc_krw, exc_rate, on='timestamp', how='inner')  # 환율 데이터 병합\n",
    "\n",
    "# BTC-KRW 데이터 타입 변환 및 원화 기준 데이터 생성\n",
    "btc_krw['close'] = btc_krw['종가'].str.replace(',', '').astype(float)\n",
    "btc_krw['open'] = btc_krw['시가'].str.replace(',', '').astype(float)\n",
    "btc_krw['high'] = btc_krw['고가'].str.replace(',', '').astype(float)\n",
    "btc_krw['low'] = btc_krw['저가'].str.replace(',', '').astype(float)\n",
    "btc_krw['volume'] = btc_krw['거래량'].str.replace('K', '').astype(float) * 1000  # 거래량 K 처리\n",
    "btc_krw['change'] = btc_krw['변동 %'].str.replace('%', '').astype(float)\n",
    "\n",
    "# BTC-USD 데이터 타입 변환 후 환율 적용 (원화 기준)\n",
    "btc_usd['close'] = btc_usd['종가'].str.replace(',', '').astype(float) * btc_usd['Exchange Rate']\n",
    "btc_usd['open'] = btc_usd['시가'].str.replace(',', '').astype(float) * btc_usd['Exchange Rate']\n",
    "btc_usd['high'] = btc_usd['고가'].str.replace(',', '').astype(float) * btc_usd['Exchange Rate']\n",
    "btc_usd['low'] = btc_usd['저가'].str.replace(',', '').astype(float) * btc_usd['Exchange Rate']\n",
    "btc_usd['volume'] = btc_usd['거래량'].str.replace('K', '').astype(float) * 1000  # 거래량 K 처리\n",
    "btc_usd['change'] = btc_usd['변동 %'].str.replace('%', '').astype(float)\n",
    "\n",
    "# 원래 열 삭제\n",
    "columns_to_drop = ['종가', '시가', '고가', '저가', '거래량', '변동 %']\n",
    "btc_usd = btc_usd.drop(columns=columns_to_drop)\n",
    "btc_krw = btc_krw.drop(columns=columns_to_drop)\n",
    "\n",
    "# 타임스탬프 오름차순 정렬\n",
    "btc_krw = btc_krw.sort_values(by='timestamp', ascending=True)\n",
    "btc_usd = btc_usd.sort_values(by='timestamp', ascending=True)\n",
    "\n",
    "# 데이터 확인\n",
    "print(btc_krw.head())\n",
    "print(btc_usd.head())\n",
    "\n",
    "# 정렬된 데이터 저장\n",
    "btc_krw.to_csv('btc_krw_sorted.csv', index=False)\n",
    "btc_usd.to_csv('btc_usd_sorted.csv', index=False)\n"
   ]
  }
 ],
 "metadata": {
  "kernelspec": {
   "display_name": "ai",
   "language": "python",
   "name": "python3"
  },
  "language_info": {
   "codemirror_mode": {
    "name": "ipython",
    "version": 3
   },
   "file_extension": ".py",
   "mimetype": "text/x-python",
   "name": "python",
   "nbconvert_exporter": "python",
   "pygments_lexer": "ipython3",
   "version": "3.11.10"
  }
 },
 "nbformat": 4,
 "nbformat_minor": 2
}
